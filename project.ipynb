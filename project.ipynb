{
 "cells": [
  {
   "cell_type": "code",
   "execution_count": 19,
   "metadata": {},
   "outputs": [],
   "source": [
    "#importing necessary libraries\n",
    "import cv2\n",
    "import openai\n",
    "import pytesseract\n",
    "import pyttsx3\n",
    "import numpy as np"
   ]
  },
  {
   "cell_type": "code",
   "execution_count": 20,
   "metadata": {},
   "outputs": [],
   "source": [
    "#setting openai key\n",
    "openai.api_key=\"use your openAI key here\""
   ]
  },
  {
   "cell_type": "code",
   "execution_count": 21,
   "metadata": {},
   "outputs": [],
   "source": [
    "#setting pytesseract path\n",
    "pytesseract.pytesseract.tesseract_cmd=r'C:\\Users\\aswat\\AppData\\Local\\Tesseract-OCR\\tesseract.exe'"
   ]
  },
  {
   "cell_type": "code",
   "execution_count": 22,
   "metadata": {},
   "outputs": [
    {
     "data": {
      "text/plain": [
       "array([[[255, 255, 255],\n",
       "        [255, 255, 255],\n",
       "        [255, 255, 255],\n",
       "        ...,\n",
       "        [255, 255, 255],\n",
       "        [255, 255, 255],\n",
       "        [255, 255, 255]],\n",
       "\n",
       "       [[255, 255, 255],\n",
       "        [255, 255, 255],\n",
       "        [255, 255, 255],\n",
       "        ...,\n",
       "        [255, 255, 255],\n",
       "        [255, 255, 255],\n",
       "        [255, 255, 255]],\n",
       "\n",
       "       [[255, 255, 255],\n",
       "        [255, 255, 255],\n",
       "        [255, 255, 255],\n",
       "        ...,\n",
       "        [255, 255, 255],\n",
       "        [255, 255, 255],\n",
       "        [255, 255, 255]],\n",
       "\n",
       "       ...,\n",
       "\n",
       "       [[255, 255, 255],\n",
       "        [255, 255, 255],\n",
       "        [255, 255, 255],\n",
       "        ...,\n",
       "        [255, 255, 255],\n",
       "        [255, 255, 255],\n",
       "        [255, 255, 255]],\n",
       "\n",
       "       [[255, 255, 255],\n",
       "        [255, 255, 255],\n",
       "        [255, 255, 255],\n",
       "        ...,\n",
       "        [255, 255, 255],\n",
       "        [255, 255, 255],\n",
       "        [255, 255, 255]],\n",
       "\n",
       "       [[255, 255, 255],\n",
       "        [255, 255, 255],\n",
       "        [255, 255, 255],\n",
       "        ...,\n",
       "        [255, 255, 255],\n",
       "        [255, 255, 255],\n",
       "        [255, 255, 255]]], dtype=uint8)"
      ]
     },
     "execution_count": 22,
     "metadata": {},
     "output_type": "execute_result"
    }
   ],
   "source": [
    "#loading image\n",
    "img = cv2.imread(r\"C:\\Users\\aswat\\Desktop\\DL PROJECTS\\opencvproject\\fre.jpg\")\n",
    "img"
   ]
  },
  {
   "cell_type": "code",
   "execution_count": 23,
   "metadata": {},
   "outputs": [
    {
     "name": "stdout",
     "output_type": "stream",
     "text": [
      "select the source language\n",
      "1 en\n",
      "2 fr\n",
      "3 es\n",
      "4 de\n",
      "5 hi\n",
      "6 ml\n",
      "7 kr\n",
      "select the target language\n",
      "1 en\n",
      "2 fr\n",
      "3 es\n",
      "4 de\n",
      "5 hi\n",
      "6 ml\n",
      "7 kr\n",
      "output saved to translated_output.txt\n"
     ]
    }
   ],
   "source": [
    "if img is not None:\n",
    "    img2 = cv2.resize(img, (800, 750))\n",
    "\n",
    "    # # Display the resized image\n",
    "    # cv2.imshow(\"Resized Image\", img2)\n",
    "    # cv2.waitKey(0)\n",
    "    # cv2.destroyAllWindows()\n",
    "\n",
    "    # converting img to gray scale\n",
    "    gray_img=cv2.cvtColor(img2,cv2.COLOR_BGR2GRAY)\n",
    "    cv2.imshow('image',gray_img)\n",
    "    cv2.waitKey()\n",
    "    cv2.destroyAllWindows()\n",
    "\n",
    "    #using tesseract to extract text from img\n",
    "    extracted_text=pytesseract.image_to_string(gray_img)\n",
    "\n",
    "    # listing the lang options\n",
    "    lang_options=['en','fr','es','de','hi','ml','kr']\n",
    "    \n",
    "    # user input for source lang\n",
    "    print(\"select the source language\")\n",
    "    for i,lang in enumerate(lang_options,1):\n",
    "        print(i,lang)\n",
    "    source_lang=int(input(\"enter source language choice num\"))\n",
    "\n",
    "    #user input for target lang\n",
    "    print(\"select the target language\")\n",
    "    for i,lang in enumerate(lang_options,1):\n",
    "        print(i,lang)\n",
    "    target_lang=int(input(\"enter the num for target language choice\"))\n",
    "\n",
    "    # mapping user i/p for both to crspndng lang optn\n",
    "    source_language=lang_options[(source_lang) -1]\n",
    "    target_language=lang_options[(target_lang) -1]\n",
    "\n",
    "    \n",
    "    # Constructing prompt \n",
    "    full_prompt = f\"Translate the following {source_language} passage to {target_language}:\\n{extracted_text}\"\n",
    "\n",
    "    # Translating extracted lang to target language\n",
    "    response = openai.Completion.create(\n",
    "        engine=\"text-davinci-003\",\n",
    "        prompt=full_prompt,\n",
    "        max_tokens=3500,\n",
    "        temperature=0.7,    #0.5, (closer to 1 creative output)(closer to 0 deterministic output)\n",
    "        top_p=0.9           #0.4  (closer to 1 broader selection)(closer to 0 narrow selection)\n",
    "\n",
    "    )\n",
    "    #extracting the translated text from api response\n",
    "    translated_txt=response['choices'][0]['text'].strip()\n",
    "\n",
    "    #saving the org txt and translated txt in a file\n",
    "    with open('translated_output.txt','w',encoding='utf-8') as file:\n",
    "        file.write(f\"Original Text ({source_language}):\\n{extracted_text}\\n\\n\")\n",
    "        file.write(f\"translated txt({target_language}):\\n{translated_txt}\")\n",
    "    print(\"output saved to translated_output.txt\")\n",
    "\n",
    "    # Creating a larger blank image to insert the extracted text\n",
    "    image = np.zeros((7000, 7000, 3), dtype=np.uint8) \n",
    "\n",
    "    text_position = (8, 40)  \n",
    "\n",
    "    #NeW Line char\n",
    "    newline = '\\n'\n",
    "    translated_txt_multiline = f\"Translated text ({target_language}):{newline}{translated_txt.replace(',', newline)}\"\n",
    "\n",
    "    # Add the modified translated text to the image\n",
    "    lines = translated_txt_multiline.split('\\n')\n",
    "\n",
    "    # Use enumerate to draw each line\n",
    "    for i, line in enumerate(lines):\n",
    "        y = text_position[1] + i * 30\n",
    "        line = line.strip()  # Strip last white spaces\n",
    "        cv2.putText(image, line, (text_position[0], y), cv2.FONT_HERSHEY_COMPLEX, 0.4, (255,255,255), 1)\n",
    "\n",
    "    # Display the image\n",
    "    cv2.imshow('translated', image)\n",
    "    cv2.waitKey(0)\n",
    "    cv2.destroyAllWindows()\n",
    "else:\n",
    "    print(\"error\")\n",
    "    \n"
   ]
  },
  {
   "cell_type": "code",
   "execution_count": 24,
   "metadata": {},
   "outputs": [],
   "source": [
    "# Text-to-speech\n",
    "txt_sp = pyttsx3.init()\n",
    "txt_sp.say(\"Translation successful. Here is the translation.\")\n",
    "txt_sp.say(translated_txt)\n",
    "txt_sp.runAndWait()"
   ]
  },
  {
   "cell_type": "code",
   "execution_count": null,
   "metadata": {},
   "outputs": [],
   "source": [
    "\n",
    "\n",
    "\n"
   ]
  },
  {
   "cell_type": "code",
   "execution_count": null,
   "metadata": {},
   "outputs": [],
   "source": [
    "\n"
   ]
  },
  {
   "cell_type": "code",
   "execution_count": null,
   "metadata": {},
   "outputs": [],
   "source": []
  },
  {
   "cell_type": "code",
   "execution_count": null,
   "metadata": {},
   "outputs": [],
   "source": []
  },
  {
   "cell_type": "code",
   "execution_count": null,
   "metadata": {},
   "outputs": [],
   "source": []
  },
  {
   "cell_type": "code",
   "execution_count": null,
   "metadata": {},
   "outputs": [],
   "source": []
  },
  {
   "cell_type": "code",
   "execution_count": null,
   "metadata": {},
   "outputs": [],
   "source": []
  },
  {
   "cell_type": "code",
   "execution_count": null,
   "metadata": {},
   "outputs": [],
   "source": []
  },
  {
   "cell_type": "code",
   "execution_count": null,
   "metadata": {},
   "outputs": [],
   "source": [
    "\n"
   ]
  },
  {
   "cell_type": "code",
   "execution_count": null,
   "metadata": {},
   "outputs": [],
   "source": []
  },
  {
   "cell_type": "code",
   "execution_count": null,
   "metadata": {},
   "outputs": [],
   "source": [
    "\n",
    "\n",
    "\n",
    "\n",
    "\n"
   ]
  },
  {
   "cell_type": "code",
   "execution_count": null,
   "metadata": {},
   "outputs": [],
   "source": [
    "\n",
    "\n",
    "\n"
   ]
  },
  {
   "cell_type": "code",
   "execution_count": null,
   "metadata": {},
   "outputs": [],
   "source": [
    "\n",
    "    \n"
   ]
  },
  {
   "cell_type": "code",
   "execution_count": null,
   "metadata": {},
   "outputs": [],
   "source": []
  }
 ],
 "metadata": {
  "kernelspec": {
   "display_name": "Python 3",
   "language": "python",
   "name": "python3"
  },
  "language_info": {
   "codemirror_mode": {
    "name": "ipython",
    "version": 3
   },
   "file_extension": ".py",
   "mimetype": "text/x-python",
   "name": "python",
   "nbconvert_exporter": "python",
   "pygments_lexer": "ipython3",
   "version": "3.11.3"
  }
 },
 "nbformat": 4,
 "nbformat_minor": 2
}
